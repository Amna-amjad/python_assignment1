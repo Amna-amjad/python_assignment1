{
 "cells": [
  {
   "cell_type": "code",
   "execution_count": 6,
   "id": "26f8ab01-3ca4-4219-847c-9100abfdde03",
   "metadata": {},
   "outputs": [],
   "source": [
    "# 1. What is the length of the salaries list.\n",
    "#salaries = ['20k', '40k', '50k', '60k', '35k', '89k','40k']\n",
    "\n"
   ]
  },
  {
   "cell_type": "code",
   "execution_count": 14,
   "id": "ad7bce11-94cc-4980-90ff-57a7e6fad2f7",
   "metadata": {},
   "outputs": [
    {
     "name": "stdout",
     "output_type": "stream",
     "text": [
      "7\n"
     ]
    }
   ],
   "source": [
    "salaries = ['20k', '40k', '50k', '60k', '35k', '89k','40k']\n",
    "length_of_salaries = len(salaries)\n",
    "print(length_of_salaries)"
   ]
  },
  {
   "cell_type": "code",
   "execution_count": 16,
   "id": "99594054-39e6-4aea-a509-26c778aae47e",
   "metadata": {},
   "outputs": [],
   "source": [
    "#2. Retrieve the third salary in the list by using index.\n"
   ]
  },
  {
   "cell_type": "code",
   "execution_count": 18,
   "id": "3a9db970-dc5d-4ab8-ba5e-65325180db48",
   "metadata": {},
   "outputs": [
    {
     "name": "stdout",
     "output_type": "stream",
     "text": [
      "50k\n"
     ]
    }
   ],
   "source": [
    "salaries = ['20k', '40k', '50k', '60k', '35k', '89k','40k']\n",
    "third_salary = salaries[2]\n",
    "print(third_salary)"
   ]
  },
  {
   "cell_type": "code",
   "execution_count": 20,
   "id": "99245da3-e3e4-4c9f-9663-74df51fe0259",
   "metadata": {},
   "outputs": [],
   "source": [
    "#3. Extract the last salary from the list by using a negative index.\n"
   ]
  },
  {
   "cell_type": "code",
   "execution_count": 22,
   "id": "c033066a-25b7-49f6-bc20-65f8e637ec4f",
   "metadata": {},
   "outputs": [
    {
     "name": "stdout",
     "output_type": "stream",
     "text": [
      "40k\n"
     ]
    }
   ],
   "source": [
    "salaries = ['20k', '40k', '50k', '60k', '35k', '89k','40k']\n",
    "last_salary = salaries[-1]\n",
    "print(last_salary)"
   ]
  },
  {
   "cell_type": "code",
   "execution_count": 24,
   "id": "d5543d07-cdba-4ece-86f4-d5e94d2854a1",
   "metadata": {},
   "outputs": [],
   "source": [
    "#4. Slice the salaries list to get only the middle three salaries.\n"
   ]
  },
  {
   "cell_type": "code",
   "execution_count": 28,
   "id": "69177da6-684e-409e-b07f-e80f0d06b461",
   "metadata": {},
   "outputs": [
    {
     "name": "stdout",
     "output_type": "stream",
     "text": [
      "['50k', '60k', '35k']\n"
     ]
    }
   ],
   "source": [
    "salaries = ['20k', '40k', '50k', '60k', '35k', '89k','40k']\n",
    "middle_salaries = salaries[2:5]\n",
    "print(middle_salaries)"
   ]
  },
  {
   "cell_type": "code",
   "execution_count": null,
   "id": "23f7159f-0a15-4cc3-992b-14ac28353ec6",
   "metadata": {},
   "outputs": [],
   "source": [
    "#5. Add a new salary to the list, ‘100k’ by using append() method."
   ]
  },
  {
   "cell_type": "code",
   "execution_count": 34,
   "id": "95b1460e-230d-41dd-b247-d11f1b919fe9",
   "metadata": {},
   "outputs": [
    {
     "name": "stdout",
     "output_type": "stream",
     "text": [
      "['20k', '40k', '50k', '60k', '35k', '89k', '40k', '100k']\n"
     ]
    }
   ],
   "source": [
    "salaries = ['20k', '40k', '50k', '60k', '35k', '89k','40k']\n",
    "salaries.append('100k')\n",
    "print(salaries)"
   ]
  },
  {
   "cell_type": "code",
   "execution_count": null,
   "id": "7cb7f9e8-4ce8-409a-937b-3caa8854ae14",
   "metadata": {},
   "outputs": [],
   "source": [
    "#6. Add a new salary to the list, ‘120k’ without method."
   ]
  },
  {
   "cell_type": "code",
   "execution_count": 36,
   "id": "680d6f55-f0a9-4bae-904a-3407eb0df631",
   "metadata": {},
   "outputs": [
    {
     "name": "stdout",
     "output_type": "stream",
     "text": [
      "['20k', '40k', '50k', '60k', '35k', '89k', '40k', '120k']\n"
     ]
    }
   ],
   "source": [
    "salaries = ['20k', '40k', '50k', '60k', '35k', '89k','40k']\n",
    "salaries += ['120k']\n",
    "print(salaries)"
   ]
  },
  {
   "cell_type": "code",
   "execution_count": null,
   "id": "e5a459e2-f7f6-49a3-8aef-46dbd4061a39",
   "metadata": {},
   "outputs": [],
   "source": [
    "#7. Replace the third salary in the list with '55k' and print the updated list."
   ]
  },
  {
   "cell_type": "code",
   "execution_count": 40,
   "id": "2278321b-93c8-43a2-9062-c80ef6e172b3",
   "metadata": {},
   "outputs": [
    {
     "name": "stdout",
     "output_type": "stream",
     "text": [
      "['20k', '40k', '55k', '60k', '35k', '89k', '40k']\n"
     ]
    }
   ],
   "source": [
    "salaries = ['20k', '40k', '50k', '60k', '35k', '89k','40k']\n",
    "salaries[2] = '55k'\n",
    "print(salaries)"
   ]
  },
  {
   "cell_type": "code",
   "execution_count": null,
   "id": "143b4567-3965-4fd9-8bd8-1e8af8aab3d3",
   "metadata": {},
   "outputs": [],
   "source": [
    "#8. Count how many times '40k' appears in the list."
   ]
  },
  {
   "cell_type": "code",
   "execution_count": 46,
   "id": "b05189a1-5b74-480c-81a8-ce8834b0fd8c",
   "metadata": {},
   "outputs": [
    {
     "name": "stdout",
     "output_type": "stream",
     "text": [
      "2\n"
     ]
    }
   ],
   "source": [
    "salaries = ['20k', '40k', '50k', '60k', '35k', '89k','40k']\n",
    "count_40k = salaries.count('40k')\n",
    "print(count_40k)"
   ]
  },
  {
   "cell_type": "code",
   "execution_count": null,
   "id": "215d64d6-78c0-464a-aff5-2a1a838a7b58",
   "metadata": {},
   "outputs": [],
   "source": [
    "#9. Insert a new salary at the second position."
   ]
  },
  {
   "cell_type": "code",
   "execution_count": 50,
   "id": "4d381f70-74dc-40ec-b194-f40d2f50be72",
   "metadata": {},
   "outputs": [
    {
     "name": "stdout",
     "output_type": "stream",
     "text": [
      "['20k', '45k', '40k', '50k', '60k', '35k', '89k', '40k']\n"
     ]
    }
   ],
   "source": [
    "salaries = ['20k', '40k', '50k', '60k', '35k', '89k','40k']\n",
    "salaries.insert(1, '45k')\n",
    "print(salaries)"
   ]
  },
  {
   "cell_type": "code",
   "execution_count": null,
   "id": "824f39eb-562f-4887-ad2d-9a866efdb8f4",
   "metadata": {},
   "outputs": [],
   "source": [
    "#10. Reverse the order of the salaries list with method."
   ]
  },
  {
   "cell_type": "code",
   "execution_count": 52,
   "id": "7a8ed076-5caa-4645-be59-2cd41cf1b5a9",
   "metadata": {},
   "outputs": [
    {
     "name": "stdout",
     "output_type": "stream",
     "text": [
      "['40k', '89k', '35k', '60k', '50k', '40k', '20k']\n"
     ]
    }
   ],
   "source": [
    "salaries = ['20k', '40k', '50k', '60k', '35k', '89k','40k']\n",
    "salaries.reverse()\n",
    "print(salaries)"
   ]
  },
  {
   "cell_type": "code",
   "execution_count": null,
   "id": "7f31f97b-89db-4adc-a753-ddffbe56fae5",
   "metadata": {},
   "outputs": [],
   "source": [
    "#11. Reverse the order of the salaries list without method."
   ]
  },
  {
   "cell_type": "code",
   "execution_count": 54,
   "id": "3f0e9442-8feb-4eab-81c8-7e5e67b76a3b",
   "metadata": {},
   "outputs": [
    {
     "name": "stdout",
     "output_type": "stream",
     "text": [
      "['40k', '89k', '35k', '60k', '50k', '40k', '20k']\n"
     ]
    }
   ],
   "source": [
    "salaries = ['20k', '40k', '50k', '60k', '35k', '89k','40k']\n",
    "reversed_salaries = salaries[::-1]\n",
    "print(reversed_salaries)"
   ]
  }
 ],
 "metadata": {
  "kernelspec": {
   "display_name": "Python 3 (ipykernel)",
   "language": "python",
   "name": "python3"
  },
  "language_info": {
   "codemirror_mode": {
    "name": "ipython",
    "version": 3
   },
   "file_extension": ".py",
   "mimetype": "text/x-python",
   "name": "python",
   "nbconvert_exporter": "python",
   "pygments_lexer": "ipython3",
   "version": "3.12.7"
  }
 },
 "nbformat": 4,
 "nbformat_minor": 5
}
